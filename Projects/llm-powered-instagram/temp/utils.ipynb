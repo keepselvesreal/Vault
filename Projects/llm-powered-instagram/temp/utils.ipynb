{
 "cells": [
  {
   "cell_type": "code",
   "execution_count": 4,
   "metadata": {},
   "outputs": [],
   "source": [
    "from typing import Generator\n",
    "\n",
    "def batch(list_: list, size: int) -> Generator[list, None, None]:\n",
    "    yield from (list_[i:i + size] for i in range(0, len(list_), size))"
   ]
  },
  {
   "cell_type": "code",
   "execution_count": 5,
   "metadata": {},
   "outputs": [],
   "source": [
    "list_ = [1, 2, 3, 4, 5, 6, 7]\n",
    "batch_generator = batch(list_, size=4)"
   ]
  },
  {
   "cell_type": "code",
   "execution_count": 3,
   "metadata": {},
   "outputs": [
    {
     "name": "stdout",
     "output_type": "stream",
     "text": [
      "[1, 2, 3, 4]\n",
      "--------------------------------------------------\n",
      "[5, 6, 7]\n",
      "--------------------------------------------------\n"
     ]
    }
   ],
   "source": [
    "for batch in batch_generator:\n",
    "    print(batch)\n",
    "    print(\"-\"*50)"
   ]
  },
  {
   "cell_type": "code",
   "execution_count": 7,
   "metadata": {},
   "outputs": [
    {
     "name": "stdout",
     "output_type": "stream",
     "text": [
      "[1, 2, 3]\n",
      "--------------------------------------------------\n"
     ]
    }
   ],
   "source": [
    "list_ = [1, 2, 3]\n",
    "batch_generator = batch(list_, size=4)\n",
    "\n",
    "for batch in batch_generator:\n",
    "    print(batch)\n",
    "    print(\"-\"*50)"
   ]
  }
 ],
 "metadata": {
  "kernelspec": {
   "display_name": "venv",
   "language": "python",
   "name": "python3"
  },
  "language_info": {
   "codemirror_mode": {
    "name": "ipython",
    "version": 3
   },
   "file_extension": ".py",
   "mimetype": "text/x-python",
   "name": "python",
   "nbconvert_exporter": "python",
   "pygments_lexer": "ipython3",
   "version": "3.11.8"
  }
 },
 "nbformat": 4,
 "nbformat_minor": 2
}
