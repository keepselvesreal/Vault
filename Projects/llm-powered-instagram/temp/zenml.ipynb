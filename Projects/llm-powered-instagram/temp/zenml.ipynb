{
 "cells": [
  {
   "cell_type": "code",
   "execution_count": 11,
   "metadata": {},
   "outputs": [
    {
     "name": "stdout",
     "output_type": "stream",
     "text": [
      "c:\\Users\\Tae-su\\Grow\\Repositories\\Vault\\Projects\\llm-powered-instagram\\temp\n",
      "c:\\Users\\Tae-su\\Grow\\Repositories\\Vault\\Projects\\llm-powered-instagram\n"
     ]
    }
   ],
   "source": [
    "import os\n",
    "import sys\n",
    "\n",
    "# 현재 작업 디렉토리의 상위 경로를 가져오기\n",
    "current_dir = os.getcwd()\n",
    "print(current_dir)\n",
    "parent_dir = os.path.dirname(current_dir)\n",
    "print(parent_dir)\n",
    "\n",
    "# src 디렉토리를 sys.path에 추가\n",
    "src_path = os.path.join(parent_dir, 'src')\n",
    "sys.path.append(src_path)"
   ]
  },
  {
   "cell_type": "code",
   "execution_count": 13,
   "metadata": {},
   "outputs": [
    {
     "name": "stdout",
     "output_type": "stream",
     "text": [
      "Current directory: c:\\Users\\Tae-su\\Grow\\Repositories\\Vault\\Projects\\llm-powered-instagram\\temp\n",
      "src_path: c:\\Users\\Tae-su\\Grow\\Repositories\\Vault\\Projects\\llm-powered-instagram\\src\n",
      "Updated sys.path: ['C:\\\\Users\\\\Tae-su\\\\.pyenv\\\\pyenv-win\\\\versions\\\\3.10.5\\\\python310.zip', 'C:\\\\Users\\\\Tae-su\\\\.pyenv\\\\pyenv-win\\\\versions\\\\3.10.5\\\\DLLs', 'C:\\\\Users\\\\Tae-su\\\\.pyenv\\\\pyenv-win\\\\versions\\\\3.10.5\\\\lib', 'C:\\\\Users\\\\Tae-su\\\\.pyenv\\\\pyenv-win\\\\versions\\\\3.10.5', 'c:\\\\Users\\\\Tae-su\\\\Grow\\\\Repositories\\\\Vault\\\\Projects\\\\llm-powered-instagram\\\\venv', '', 'c:\\\\Users\\\\Tae-su\\\\Grow\\\\Repositories\\\\Vault\\\\Projects\\\\llm-powered-instagram\\\\venv\\\\lib\\\\site-packages', 'c:\\\\Users\\\\Tae-su\\\\Grow\\\\Repositories\\\\Vault\\\\Projects\\\\llm-powered-instagram\\\\venv\\\\lib\\\\site-packages\\\\win32', 'c:\\\\Users\\\\Tae-su\\\\Grow\\\\Repositories\\\\Vault\\\\Projects\\\\llm-powered-instagram\\\\venv\\\\lib\\\\site-packages\\\\win32\\\\lib', 'c:\\\\Users\\\\Tae-su\\\\Grow\\\\Repositories\\\\Vault\\\\Projects\\\\llm-powered-instagram\\\\venv\\\\lib\\\\site-packages\\\\Pythonwin', 'c:\\\\Users\\\\Tae-su\\\\Grow\\\\Repositories\\\\Vault\\\\Projects\\\\llm-powered-instagram\\\\src', 'c:\\\\Users\\\\Tae-su\\\\Grow\\\\Repositories\\\\Vault\\\\Projects\\\\llm-powered-instagram\\\\src', 'c:\\\\Users\\\\Tae-su\\\\Grow\\\\Repositories\\\\Vault\\\\Projects\\\\llm-powered-instagram\\\\src', 'c:\\\\Users\\\\Tae-su\\\\Grow\\\\Repositories\\\\Vault\\\\Projects\\\\llm-powered-instagram\\\\src']\n",
      "Error importing UserDocument: No module named 'src'\n"
     ]
    }
   ],
   "source": [
    "# 현재 작업 디렉토리 확인\n",
    "current_dir = os.getcwd()\n",
    "print(\"Current directory:\", current_dir)\n",
    "\n",
    "# src 디렉토리의 절대 경로 가져오기\n",
    "src_path = os.path.abspath(os.path.join(current_dir, '..', 'src'))\n",
    "print(\"src_path:\", src_path)\n",
    "\n",
    "# src 디렉토리를 sys.path에 추가\n",
    "if src_path not in sys.path:\n",
    "    sys.path.append(src_path)\n",
    "\n",
    "print(\"Updated sys.path:\", sys.path)\n",
    "\n",
    "# src 모듈 임포트\n",
    "try:\n",
    "    from src.domain.documents import UserDocument\n",
    "except ModuleNotFoundError as e:\n",
    "    print(\"Error importing UserDocument:\", e)"
   ]
  },
  {
   "cell_type": "code",
   "execution_count": 12,
   "metadata": {},
   "outputs": [
    {
     "ename": "ModuleNotFoundError",
     "evalue": "No module named 'src'",
     "output_type": "error",
     "traceback": [
      "\u001b[1;31m---------------------------------------------------------------------------\u001b[0m",
      "\u001b[1;31mModuleNotFoundError\u001b[0m                       Traceback (most recent call last)",
      "Cell \u001b[1;32mIn[12], line 1\u001b[0m\n\u001b[1;32m----> 1\u001b[0m \u001b[38;5;28;01mfrom\u001b[39;00m\u001b[38;5;250m \u001b[39m\u001b[38;5;21;01msrc\u001b[39;00m\u001b[38;5;21;01m.\u001b[39;00m\u001b[38;5;21;01mdomain\u001b[39;00m\u001b[38;5;21;01m.\u001b[39;00m\u001b[38;5;21;01mdocuments\u001b[39;00m\u001b[38;5;250m \u001b[39m\u001b[38;5;28;01mimport\u001b[39;00m UserDocument\n\u001b[0;32m      3\u001b[0m UserDocument(first_name\u001b[38;5;241m=\u001b[39m\u001b[38;5;124m\"\u001b[39m\u001b[38;5;124mtae-su\u001b[39m\u001b[38;5;124m\"\u001b[39m, last_name\u001b[38;5;241m=\u001b[39m\u001b[38;5;124m\"\u001b[39m\u001b[38;5;124mkang\u001b[39m\u001b[38;5;124m\"\u001b[39m)\n",
      "\u001b[1;31mModuleNotFoundError\u001b[0m: No module named 'src'"
     ]
    }
   ],
   "source": [
    "from src.domain.documents import UserDocument\n",
    "\n",
    "UserDocument(first_name=\"tae-su\", last_name=\"kang\")"
   ]
  },
  {
   "cell_type": "code",
   "execution_count": null,
   "metadata": {},
   "outputs": [],
   "source": [
    "from zenml import step, get_step_context\n",
    "\n",
    "@step\n",
    "def get_or_create_user(user_full_name):\n",
    "    step_context = get_step_context()\n",
    "    step_context.add_output_metadata(output_name=\"user\")\n",
    "    return step_context\n",
    "\n",
    "def _get_metadata(user_full_name: str, user: UserDocument) -> dict:\n",
    "    return {\n",
    "        \"query\": {\n",
    "            \"user_full_name\": user_full_name,\n",
    "        },\n",
    "        \"retrieved\": {\n",
    "            \"user_id\": str(user.id),\n",
    "            \"first_name\": user.first_name,\n",
    "            \"last_name\": user.last_name,\n",
    "        },\n",
    "    }"
   ]
  },
  {
   "cell_type": "code",
   "execution_count": null,
   "metadata": {},
   "outputs": [],
   "source": []
  }
 ],
 "metadata": {
  "kernelspec": {
   "display_name": "venv",
   "language": "python",
   "name": "python3"
  },
  "language_info": {
   "codemirror_mode": {
    "name": "ipython",
    "version": 3
   },
   "file_extension": ".py",
   "mimetype": "text/x-python",
   "name": "python",
   "nbconvert_exporter": "python",
   "pygments_lexer": "ipython3",
   "version": "3.10.5"
  }
 },
 "nbformat": 4,
 "nbformat_minor": 2
}
