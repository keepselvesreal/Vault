{
 "cells": [
  {
   "cell_type": "code",
   "execution_count": 11,
   "metadata": {},
   "outputs": [],
   "source": [
    "import os\n",
    "import boto3\n",
    "import json\n",
    "from dotenv import load_dotenv"
   ]
  },
  {
   "cell_type": "markdown",
   "metadata": {},
   "source": [
    "## 배포 상태 확인"
   ]
  },
  {
   "cell_type": "code",
   "execution_count": 4,
   "metadata": {},
   "outputs": [
    {
     "data": {
      "text/plain": [
       "True"
      ]
     },
     "execution_count": 4,
     "metadata": {},
     "output_type": "execute_result"
    }
   ],
   "source": [
    "load_dotenv()"
   ]
  },
  {
   "cell_type": "code",
   "execution_count": 7,
   "metadata": {},
   "outputs": [
    {
     "data": {
      "text/plain": [
       "<botocore.client.SageMaker at 0x174a060b5d0>"
      ]
     },
     "execution_count": 7,
     "metadata": {},
     "output_type": "execute_result"
    }
   ],
   "source": [
    "sagemaker_client = boto3.client('sagemaker',\n",
    "    aws_access_key_id=os.getenv(\"AWS_ACCESS_KEY\"),\n",
    "    aws_secret_access_key=os.getenv(\"AWS_SECRET_KEY\"),\n",
    "    region_name=os.getenv(\"AWS_REGION\")\n",
    ")\n",
    "sagemaker_client "
   ]
  },
  {
   "cell_type": "code",
   "execution_count": 8,
   "metadata": {},
   "outputs": [],
   "source": [
    "# 엔드포인트 상태 확인\n",
    "def check_endpoint_status(endpoint_name):\n",
    "    response = sagemaker_client.describe_endpoint(EndpointName=endpoint_name)\n",
    "    status = response['EndpointStatus']\n",
    "    print(f\"Endpoint status: {status}\")\n",
    "    return status\n",
    "\n",
    "# 엔드포인트 설명 보기\n",
    "def get_endpoint_description(endpoint_name):\n",
    "    response = sagemaker_client.describe_endpoint(EndpointName=endpoint_name)\n",
    "    return response"
   ]
  },
  {
   "cell_type": "code",
   "execution_count": 9,
   "metadata": {},
   "outputs": [
    {
     "name": "stdout",
     "output_type": "stream",
     "text": [
      "Endpoint status: InService\n"
     ]
    },
    {
     "data": {
      "text/plain": [
       "'InService'"
      ]
     },
     "execution_count": 9,
     "metadata": {},
     "output_type": "execute_result"
    }
   ],
   "source": [
    "check_endpoint_status(\"twin\")"
   ]
  },
  {
   "cell_type": "code",
   "execution_count": 10,
   "metadata": {},
   "outputs": [
    {
     "data": {
      "text/plain": [
       "{'EndpointName': 'twin',\n",
       " 'EndpointArn': 'arn:aws:sagemaker:ap-northeast-2:442042511020:endpoint/twin',\n",
       " 'EndpointConfigName': 'twin',\n",
       " 'ProductionVariants': [{'VariantName': 'AllTraffic',\n",
       "   'DeployedImages': [{'SpecifiedImage': '763104351884.dkr.ecr.ap-northeast-2.amazonaws.com/huggingface-pytorch-tgi-inference:2.3.0-tgi2.2.0-gpu-py310-cu121-ubuntu22.04-v2.0',\n",
       "     'ResolvedImage': '763104351884.dkr.ecr.ap-northeast-2.amazonaws.com/huggingface-pytorch-tgi-inference@sha256:4becc345f722896a9cd15979df0dd98c1eeaf9900393b8a72e636e6bb870ca68',\n",
       "     'ResolutionTime': datetime.datetime(2025, 2, 11, 15, 39, 13, 641000, tzinfo=tzlocal())}],\n",
       "   'CurrentWeight': 1.0,\n",
       "   'DesiredWeight': 1.0,\n",
       "   'CurrentInstanceCount': 1,\n",
       "   'DesiredInstanceCount': 1}],\n",
       " 'EndpointStatus': 'InService',\n",
       " 'CreationTime': datetime.datetime(2025, 2, 11, 15, 39, 13, 141000, tzinfo=tzlocal()),\n",
       " 'LastModifiedTime': datetime.datetime(2025, 2, 11, 15, 45, 25, 313000, tzinfo=tzlocal()),\n",
       " 'ResponseMetadata': {'RequestId': 'd9f02910-e58f-4e63-9f63-6edf865c07f9',\n",
       "  'HTTPStatusCode': 200,\n",
       "  'HTTPHeaders': {'x-amzn-requestid': 'd9f02910-e58f-4e63-9f63-6edf865c07f9',\n",
       "   'content-type': 'application/x-amz-json-1.1',\n",
       "   'content-length': '746',\n",
       "   'date': 'Tue, 11 Feb 2025 06:54:49 GMT'},\n",
       "  'RetryAttempts': 0}}"
      ]
     },
     "execution_count": 10,
     "metadata": {},
     "output_type": "execute_result"
    }
   ],
   "source": [
    "get_endpoint_description(\"twin\")"
   ]
  },
  {
   "cell_type": "markdown",
   "metadata": {},
   "source": [
    "## 배포 모델 사용"
   ]
  },
  {
   "cell_type": "code",
   "execution_count": 12,
   "metadata": {},
   "outputs": [],
   "source": [
    "def query_endpoint(endpoint_name, input_text):\n",
    "    # SageMaker 런타임 클라이언트 생성\n",
    "    runtime_client = boto3.client(\n",
    "        'sagemaker-runtime',\n",
    "        aws_access_key_id=os.getenv(\"AWS_ACCESS_KEY\"),\n",
    "        aws_secret_access_key=os.getenv(\"AWS_SECRET_KEY\"),\n",
    "        region_name=os.getenv(\"AWS_REGION\"),\n",
    "    )\n",
    "    \n",
    "    # 입력 데이터 준비\n",
    "    payload = {\n",
    "        \"inputs\": input_text\n",
    "    }\n",
    "    \n",
    "    # 엔드포인트 호출\n",
    "    response = runtime_client.invoke_endpoint(\n",
    "        EndpointName=endpoint_name,\n",
    "        ContentType='application/json',\n",
    "        Body=json.dumps(payload)\n",
    "    )\n",
    "    \n",
    "    # 응답 처리\n",
    "    result = json.loads(response['Body'].read().decode())\n",
    "    return result"
   ]
  },
  {
   "cell_type": "code",
   "execution_count": 13,
   "metadata": {},
   "outputs": [
    {
     "data": {
      "text/plain": [
       "[{'generated_text': 'what can you do for me? asked A.\\nhow can i do for you? asked B.\\nA.) Can you speak Hindi?\\nB.) Can you speak Sanskrit?'}]"
      ]
     },
     "execution_count": 13,
     "metadata": {},
     "output_type": "execute_result"
    }
   ],
   "source": [
    "result = query_endpoint(\"twin\", \"what can you do for me?\")\n",
    "result"
   ]
  },
  {
   "cell_type": "code",
   "execution_count": 15,
   "metadata": {},
   "outputs": [
    {
     "data": {
      "text/plain": [
       "'what can you do for me? asked A.\\nhow can i do for you? asked B.\\nA.) Can you speak Hindi?\\nB.) Can you speak Sanskrit?'"
      ]
     },
     "execution_count": 15,
     "metadata": {},
     "output_type": "execute_result"
    }
   ],
   "source": [
    "result[0][\"generated_text\"]"
   ]
  },
  {
   "cell_type": "markdown",
   "metadata": {},
   "source": [
    "## 모델 성능 모니터링"
   ]
  },
  {
   "cell_type": "code",
   "execution_count": 16,
   "metadata": {},
   "outputs": [],
   "source": [
    "import datetime\n",
    "\n",
    "def get_endpoint_metrics(endpoint_name):\n",
    "    cloudwatch = boto3.client(\n",
    "        'cloudwatch',\n",
    "        aws_access_key_id=os.getenv(\"AWS_ACCESS_KEY\"),\n",
    "        aws_secret_access_key=os.getenv(\"AWS_SECRET_KEY\"),\n",
    "        region_name=os.getenv(\"AWS_REGION\"),\n",
    "    )\n",
    "    \n",
    "    # 주요 메트릭 조회\n",
    "    metrics = cloudwatch.get_metric_data(\n",
    "        MetricDataQueries=[\n",
    "            {\n",
    "                'Id': 'invocations',\n",
    "                'MetricStat': {\n",
    "                    'Metric': {\n",
    "                        'Namespace': 'AWS/SageMaker',\n",
    "                        'MetricName': 'Invocations',\n",
    "                        'Dimensions': [\n",
    "                            {'Name': 'EndpointName', 'Value': endpoint_name}\n",
    "                        ]\n",
    "                    },\n",
    "                    'Period': 300,\n",
    "                    'Stat': 'Sum'\n",
    "                }\n",
    "            },\n",
    "            {\n",
    "                'Id': 'latency',\n",
    "                'MetricStat': {\n",
    "                    'Metric': {\n",
    "                        'Namespace': 'AWS/SageMaker',\n",
    "                        'MetricName': 'ModelLatency',\n",
    "                        'Dimensions': [\n",
    "                            {'Name': 'EndpointName', 'Value': endpoint_name}\n",
    "                        ]\n",
    "                    },\n",
    "                    'Period': 300,\n",
    "                    'Stat': 'Average'\n",
    "                }\n",
    "            }\n",
    "        ],\n",
    "        StartTime=datetime.datetime.now(datetime.timezone.utc) - datetime.timedelta(hours=1),\n",
    "        EndTime=datetime.datetime.now(datetime.timezone.utc)\n",
    "    )\n",
    "    \n",
    "    return metrics"
   ]
  },
  {
   "cell_type": "code",
   "execution_count": 17,
   "metadata": {},
   "outputs": [
    {
     "data": {
      "text/plain": [
       "{'MetricDataResults': [{'Id': 'invocations',\n",
       "   'Label': 'Invocations',\n",
       "   'Timestamps': [],\n",
       "   'Values': [],\n",
       "   'StatusCode': 'Complete'},\n",
       "  {'Id': 'latency',\n",
       "   'Label': 'ModelLatency',\n",
       "   'Timestamps': [],\n",
       "   'Values': [],\n",
       "   'StatusCode': 'Complete'}],\n",
       " 'Messages': [],\n",
       " 'ResponseMetadata': {'RequestId': '9cad89c2-15de-410e-8d48-8919b904fbc8',\n",
       "  'HTTPStatusCode': 200,\n",
       "  'HTTPHeaders': {'x-amzn-requestid': '9cad89c2-15de-410e-8d48-8919b904fbc8',\n",
       "   'content-type': 'text/xml',\n",
       "   'content-length': '677',\n",
       "   'date': 'Tue, 11 Feb 2025 07:01:56 GMT'},\n",
       "  'RetryAttempts': 0}}"
      ]
     },
     "execution_count": 17,
     "metadata": {},
     "output_type": "execute_result"
    }
   ],
   "source": [
    "metrics = get_endpoint_metrics(\"twin\")\n",
    "metrics"
   ]
  }
 ],
 "metadata": {
  "kernelspec": {
   "display_name": "venv",
   "language": "python",
   "name": "python3"
  },
  "language_info": {
   "codemirror_mode": {
    "name": "ipython",
    "version": 3
   },
   "file_extension": ".py",
   "mimetype": "text/x-python",
   "name": "python",
   "nbconvert_exporter": "python",
   "pygments_lexer": "ipython3",
   "version": "3.11.8"
  }
 },
 "nbformat": 4,
 "nbformat_minor": 2
}
